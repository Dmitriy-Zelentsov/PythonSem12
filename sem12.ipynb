{
 "cells": [
  {
   "cell_type": "code",
   "execution_count": 19,
   "metadata": {},
   "outputs": [
    {
     "name": "stdout",
     "output_type": "stream",
     "text": [
      "[(20, 2, 28)]\n",
      "46204\n",
      "58456\n"
     ]
    }
   ],
   "source": [
    "from sympy import *\n",
    "a,b,c,x = symbols('a,b,c,x')\n",
    "y1 = a*31**2 + b*31+c-19310\n",
    "y2 = a*51**2 + b*51+c -52150\n",
    "y3 = a*61**2 + b*61+c -74570\n",
    "\n",
    "t = [y1,y2,y3]\n",
    "res = linsolve(t,(a,b,c))\n",
    "list1 =list(res)\n",
    "print(list1)\n",
    "sum48 = list1[0][0]*48**2+list1[0][1]*48+list1[0][2]\n",
    "sum54 = list1[0][0]*54**2+list1[0][1]*54+list1[0][2]\n",
    "print(sum48)\n",
    "print(sum54)\n",
    "\n"
   ]
  }
 ],
 "metadata": {
  "kernelspec": {
   "display_name": "Python 3.10.8 64-bit (microsoft store)",
   "language": "python",
   "name": "python3"
  },
  "language_info": {
   "codemirror_mode": {
    "name": "ipython",
    "version": 3
   },
   "file_extension": ".py",
   "mimetype": "text/x-python",
   "name": "python",
   "nbconvert_exporter": "python",
   "pygments_lexer": "ipython3",
   "version": "3.10.8"
  },
  "orig_nbformat": 4,
  "vscode": {
   "interpreter": {
    "hash": "23f823caeccb1684f6bd50492b68bb5eab208de0408f39b2457c6a38c0e8e818"
   }
  }
 },
 "nbformat": 4,
 "nbformat_minor": 2
}
